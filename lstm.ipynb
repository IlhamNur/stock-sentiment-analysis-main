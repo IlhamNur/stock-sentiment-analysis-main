{
 "cells": [
  {
   "cell_type": "code",
   "execution_count": 1,
   "id": "52288804",
   "metadata": {},
   "outputs": [],
   "source": [
    "# Data imports\n",
    "import re\n",
    "import numpy as np\n",
    "import pandas as pd\n",
    "import matplotlib.pyplot as plt\n",
    "\n",
    "# ML imports\n",
    "from sklearn.model_selection import train_test_split\n",
    "from tensorflow.keras.models import Sequential, load_model\n",
    "from tensorflow.keras.layers import Dense, Dropout, LSTM, GRU, Embedding\n",
    "from tensorflow.keras.preprocessing.text import Tokenizer\n",
    "from tensorflow.keras.preprocessing.sequence import pad_sequences"
   ]
  },
  {
   "cell_type": "code",
   "execution_count": 2,
   "id": "88b459ff",
   "metadata": {},
   "outputs": [
    {
     "name": "stdout",
     "output_type": "stream",
     "text": [
      "(5791, 2)\n"
     ]
    },
    {
     "data": {
      "text/html": [
       "<div>\n",
       "<style scoped>\n",
       "    .dataframe tbody tr th:only-of-type {\n",
       "        vertical-align: middle;\n",
       "    }\n",
       "\n",
       "    .dataframe tbody tr th {\n",
       "        vertical-align: top;\n",
       "    }\n",
       "\n",
       "    .dataframe thead th {\n",
       "        text-align: right;\n",
       "    }\n",
       "</style>\n",
       "<table border=\"1\" class=\"dataframe\">\n",
       "  <thead>\n",
       "    <tr style=\"text-align: right;\">\n",
       "      <th></th>\n",
       "      <th>Text</th>\n",
       "      <th>Sentiment</th>\n",
       "    </tr>\n",
       "  </thead>\n",
       "  <tbody>\n",
       "    <tr>\n",
       "      <th>0</th>\n",
       "      <td>sensex opens 1564 points lower nifty starts da...</td>\n",
       "      <td>-1</td>\n",
       "    </tr>\n",
       "    <tr>\n",
       "      <th>1</th>\n",
       "      <td>while the new 350 billion paycheck protection ...</td>\n",
       "      <td>-1</td>\n",
       "    </tr>\n",
       "    <tr>\n",
       "      <th>2</th>\n",
       "      <td>aap loading up on jan 2015s 440 strikes  62 7 ...</td>\n",
       "      <td>1</td>\n",
       "    </tr>\n",
       "    <tr>\n",
       "      <th>3</th>\n",
       "      <td>pat one es spy update</td>\n",
       "      <td>-1</td>\n",
       "    </tr>\n",
       "    <tr>\n",
       "      <th>4</th>\n",
       "      <td>green weekly triangle on jbopen ong at 679</td>\n",
       "      <td>1</td>\n",
       "    </tr>\n",
       "    <tr>\n",
       "      <th>5</th>\n",
       "      <td>gmx taking more off here 389</td>\n",
       "      <td>1</td>\n",
       "    </tr>\n",
       "    <tr>\n",
       "      <th>6</th>\n",
       "      <td>expect nfx to trade higher on dish founders po...</td>\n",
       "      <td>1</td>\n",
       "    </tr>\n",
       "    <tr>\n",
       "      <th>7</th>\n",
       "      <td>both ma and v should be on everyones watch lis...</td>\n",
       "      <td>1</td>\n",
       "    </tr>\n",
       "    <tr>\n",
       "      <th>8</th>\n",
       "      <td>cat bingo it is bingo everywhere today</td>\n",
       "      <td>1</td>\n",
       "    </tr>\n",
       "    <tr>\n",
       "      <th>9</th>\n",
       "      <td>bac here comes another push higher jpm calls b...</td>\n",
       "      <td>1</td>\n",
       "    </tr>\n",
       "  </tbody>\n",
       "</table>\n",
       "</div>"
      ],
      "text/plain": [
       "                                                Text  Sentiment\n",
       "0  sensex opens 1564 points lower nifty starts da...         -1\n",
       "1  while the new 350 billion paycheck protection ...         -1\n",
       "2  aap loading up on jan 2015s 440 strikes  62 7 ...          1\n",
       "3                            pat one es spy update           -1\n",
       "4       green weekly triangle on jbopen ong at 679            1\n",
       "5                       gmx taking more off here 389          1\n",
       "6  expect nfx to trade higher on dish founders po...          1\n",
       "7  both ma and v should be on everyones watch lis...          1\n",
       "8             cat bingo it is bingo everywhere today          1\n",
       "9  bac here comes another push higher jpm calls b...          1"
      ]
     },
     "execution_count": 2,
     "metadata": {},
     "output_type": "execute_result"
    }
   ],
   "source": [
    "# read data\n",
    "df = pd.read_csv(\"apis/tweet_data.csv\")\n",
    "\n",
    "# sample data\n",
    "df = df.sample(frac=1).reset_index(drop=True)\n",
    "\n",
    "# clean tweet text\n",
    "df['Text'] = df['Text'].apply(lambda x: x.lower())  # transform text to lowercase\n",
    "df['Text'] = df['Text'].apply(lambda x: re.sub('[^a-zA-z0-9\\s]', '', x))\n",
    "print(df.shape)\n",
    "df.head(10)"
   ]
  },
  {
   "cell_type": "code",
   "execution_count": 3,
   "id": "414cd237",
   "metadata": {},
   "outputs": [
    {
     "data": {
      "image/png": "[encoded data removed]",
      "text/plain": [
       "<Figure size 640x480 with 1 Axes>"
      ]
     },
     "metadata": {},
     "output_type": "display_data"
    }
   ],
   "source": [
    "df['Sentiment'].value_counts().sort_index().plot.bar()\n",
    "plt.savefig(\"images/single_count.png\")"
   ]
  },
  {
   "cell_type": "code",
   "execution_count": 4,
   "id": "5acb25ca",
   "metadata": {},
   "outputs": [
    {
     "data": {
      "image/png": "[encoded data removed]",
      "text/plain": [
       "<Figure size 640x480 with 1 Axes>"
      ]
     },
     "metadata": {},
     "output_type": "display_data"
    }
   ],
   "source": [
    "df['Text'].str.len().plot.hist()\n",
    "plt.savefig(\"images/tweet_len.png\")"
   ]
  },
  {
   "cell_type": "code",
   "execution_count": 5,
   "id": "c4d9b3d8",
   "metadata": {},
   "outputs": [
    {
     "name": "stdout",
     "output_type": "stream",
     "text": [
      "X tokenized data =  [[   0    0    0    0    0    0    0    0    0    0    0    0    0    0\n",
      "     0    0    0    0    0    0   73  376 3238   99  100   81  477   31\n",
      "    12 3239 3240]\n",
      " [   0    0    0    0    0    0    0    0    0    0    0  370    1   47\n",
      "   625  383 3241 3242 1553   10 3243   12  720   20  299   75 2065  880\n",
      "    88  573 4776]\n",
      " [   0    0    0    0    0    0    0    0    8 3244   17    4  361 2530\n",
      "  1123 1554 2531  392  496    7    1  109    6  309  145  340   18   13\n",
      "    22    5 2066]\n",
      " [   0    0    0    0    0    0    0    0    0    0    0    0    0    0\n",
      "     0    0    0    0    0    0    0    0    0    0    0    0 3245   72\n",
      "   247  138  687]\n",
      " [   0    0    0    0    0    0    0    0    0    0    0    0    0    0\n",
      "     0    0    0    0    0    0    0    0    0   98   84   74    4 4777\n",
      "    71   12 4778]]\n"
     ]
    }
   ],
   "source": [
    "# X as tokenize data\n",
    "tokenizer = Tokenizer(num_words=5000)\n",
    "tokenizer.fit_on_texts(df['Text'].values)\n",
    "X = tokenizer.texts_to_sequences(df['Text'].values)\n",
    "X = pad_sequences(X)\n",
    "print(\"X tokenized data = \", X[:5])\n"
   ]
  },
  {
   "cell_type": "code",
   "execution_count": 6,
   "id": "ab84948c",
   "metadata": {
    "scrolled": true
   },
   "outputs": [
    {
     "name": "stdout",
     "output_type": "stream",
     "text": [
      "-1 [ True False]\n",
      "-1 [ True False]\n",
      "1 [False  True]\n",
      "-1 [ True False]\n",
      "1 [False  True]\n"
     ]
    },
    {
     "data": {
      "text/plain": [
       "[None, None, None, None, None]"
      ]
     },
     "execution_count": 6,
     "metadata": {},
     "output_type": "execute_result"
    }
   ],
   "source": [
    "# Y as buckets of Sentiment column\n",
    "y = pd.get_dummies(df['Sentiment']).values\n",
    "[print(df['Sentiment'][i], y[i]) for i in range(0, 5)]"
   ]
  },
  {
   "cell_type": "code",
   "execution_count": 7,
   "id": "d5a9a67c",
   "metadata": {},
   "outputs": [],
   "source": [
    "# lstm create model\n",
    "model = Sequential()\n",
    "model.add(Embedding(5000, 256, input_length=X.shape[1]))\n",
    "model.add(Dropout(0.3))\n",
    "model.add(GRU(256, return_sequences=True, dropout=0.3, recurrent_dropout=0.2))\n",
    "model.add(GRU(256, dropout=0.3, recurrent_dropout=0.2))\n",
    "model.add(Dense(2, activation='softmax'))"
   ]
  },
  {
   "cell_type": "code",
   "execution_count": 8,
   "id": "cd85a661",
   "metadata": {},
   "outputs": [
    {
     "name": "stdout",
     "output_type": "stream",
     "text": [
      "Model: \"sequential\"\n",
      "_________________________________________________________________\n",
      " Layer (type)                Output Shape              Param #   \n",
      "=================================================================\n",
      " embedding (Embedding)       (None, 31, 256)           1280000   \n",
      "                                                                 \n",
      " dropout (Dropout)           (None, 31, 256)           0         \n",
      "                                                                 \n",
      " gru (GRU)                   (None, 31, 256)           394752    \n",
      "                                                                 \n",
      " gru_1 (GRU)                 (None, 256)               394752    \n",
      "                                                                 \n",
      " dense (Dense)               (None, 2)                 514       \n",
      "                                                                 \n",
      "=================================================================\n",
      "Total params: 2,070,018\n",
      "Trainable params: 2,070,018\n",
      "Non-trainable params: 0\n",
      "_________________________________________________________________\n"
     ]
    }
   ],
   "source": [
    "model.compile(loss='categorical_crossentropy', optimizer='adam', metrics=['accuracy'])\n",
    "model.summary()"
   ]
  },
  {
   "cell_type": "code",
   "execution_count": 9,
   "id": "4fd3cd2e",
   "metadata": {},
   "outputs": [],
   "source": [
    "X_train, X_test, y_train, y_test = train_test_split(X, y, test_size=0.2, random_state=0)"
   ]
  },
  {
   "cell_type": "code",
   "execution_count": 10,
   "id": "efbcccb6",
   "metadata": {},
   "outputs": [
    {
     "name": "stdout",
     "output_type": "stream",
     "text": [
      "Epoch 1/8\n",
      "145/145 - 91s - loss: 0.5789 - accuracy: 0.7032 - 91s/epoch - 629ms/step\n",
      "Epoch 2/8\n",
      "145/145 - 70s - loss: 0.3804 - accuracy: 0.8314 - 70s/epoch - 479ms/step\n",
      "Epoch 3/8\n",
      "145/145 - 74s - loss: 0.2237 - accuracy: 0.9080 - 74s/epoch - 510ms/step\n",
      "Epoch 4/8\n",
      "145/145 - 87s - loss: 0.1480 - accuracy: 0.9434 - 87s/epoch - 597ms/step\n",
      "Epoch 5/8\n",
      "145/145 - 81s - loss: 0.0823 - accuracy: 0.9724 - 81s/epoch - 558ms/step\n",
      "Epoch 6/8\n",
      "145/145 - 83s - loss: 0.0477 - accuracy: 0.9829 - 83s/epoch - 575ms/step\n",
      "Epoch 7/8\n",
      "145/145 - 74s - loss: 0.0405 - accuracy: 0.9860 - 74s/epoch - 509ms/step\n",
      "Epoch 8/8\n",
      "145/145 - 79s - loss: 0.0395 - accuracy: 0.9851 - 79s/epoch - 545ms/step\n"
     ]
    }
   ],
   "source": [
    "batch_size = 32\n",
    "epochs = 8\n",
    "\n",
    "history = model.fit(X_train, y_train, epochs=epochs, batch_size=batch_size, verbose=2)"
   ]
  },
  {
   "cell_type": "code",
   "execution_count": 11,
   "id": "2c989183",
   "metadata": {},
   "outputs": [
    {
     "name": "stdout",
     "output_type": "stream",
     "text": [
      "37/37 [==============================] - 4s 77ms/step\n"
     ]
    }
   ],
   "source": [
    "predictions = model.predict(X_test)"
   ]
  },
  {
   "cell_type": "code",
   "execution_count": 12,
   "id": "db9401f0",
   "metadata": {},
   "outputs": [
    {
     "name": "stdout",
     "output_type": "stream",
     "text": [
      "Positive predictions: 756\n",
      "Negative predictions: 403\n",
      "Real neutral: 736\n",
      "Real negative: 423\n"
     ]
    }
   ],
   "source": [
    "pos_count, neg_count = 0, 0\n",
    "real_pos, real_neg = 0, 0\n",
    "for i, prediction in enumerate(predictions):\n",
    "    if np.argmax(prediction)==1:\n",
    "        pos_count += 1\n",
    "    else:\n",
    "        neg_count += 1\n",
    "    if np.argmax(y_test[i])==1:    \n",
    "        real_pos += 1\n",
    "    else:\n",
    "        real_neg +=1\n",
    "\n",
    "print('Positive predictions:', pos_count)\n",
    "print('Negative predictions:', neg_count)\n",
    "\n",
    "print('Real neutral:', real_pos)\n",
    "print('Real negative:', real_neg)"
   ]
  },
  {
   "cell_type": "code",
   "execution_count": 13,
   "id": "0647b7e5",
   "metadata": {},
   "outputs": [],
   "source": [
    "import matplotlib.pyplot as plt"
   ]
  },
  {
   "cell_type": "code",
   "execution_count": 14,
   "id": "245f8ffe",
   "metadata": {},
   "outputs": [
    {
     "name": "stdout",
     "output_type": "stream",
     "text": [
      "[0.5788701772689819, 0.3803689479827881, 0.22372283041477203, 0.14795193076133728, 0.08230870217084885, 0.04771771281957626, 0.04053236171603203, 0.039484258741140366]\n"
     ]
    }
   ],
   "source": [
    "print(history.history['loss'], )\n",
    "predictions = [pos_count, neg_count]\n",
    "real = [real_pos, real_neg]\n",
    "labels = ['Positive', 'Negative']"
   ]
  },
  {
   "cell_type": "code",
   "execution_count": 15,
   "id": "0ce766c4",
   "metadata": {},
   "outputs": [
    {
     "data": {
      "image/png": "[encoded data removed]",
      "text/plain": [
       "<Figure size 640x480 with 1 Axes>"
      ]
     },
     "metadata": {},
     "output_type": "display_data"
    }
   ],
   "source": [
    "x = np.arange(len(labels))\n",
    "width = 0.35 \n",
    "\n",
    "fig, ax = plt.subplots()\n",
    "rects1 = ax.bar(x - width/2, real, width, label='Real')\n",
    "rects2 = ax.bar(x + width/2, predictions, width, label='Predictions')\n",
    "\n",
    "ax.set_ylabel('Scores')\n",
    "ax.set_title('Count of Classifications')\n",
    "ax.set_xticks(x)\n",
    "ax.set_xticklabels(labels)\n",
    "ax.legend()\n",
    "\n",
    "ax.bar_label(rects1, padding=3)\n",
    "ax.bar_label(rects2, padding=3)\n",
    "\n",
    "fig.tight_layout()\n",
    "plt.savefig(\"images/predictions_gru.png\")\n",
    "plt.show()"
   ]
  },
  {
   "cell_type": "code",
   "execution_count": 16,
   "id": "ba886246",
   "metadata": {},
   "outputs": [
    {
     "data": {
      "image/png": "[encoded data removed]",
      "text/plain": [
       "<Figure size 640x480 with 1 Axes>"
      ]
     },
     "metadata": {},
     "output_type": "display_data"
    }
   ],
   "source": [
    "fig, ax = plt.subplots()\n",
    "loss = history.history['loss']\n",
    "epoch = [item for item in range(1,9)]\n",
    "accuracy = history.history['accuracy']\n",
    "ax.plot(epoch, loss, label = \"Loss\")\n",
    "ax.plot(epoch, accuracy, label = \"Accuracy\")\n",
    "\n",
    "ax.set_xlabel('Epoch')\n",
    "ax.set_title('Accuracy and Loss per epoch')\n",
    "plt.legend()\n",
    "plt.savefig(\"images/epoch_gru.png\")\n",
    "plt.show()"
   ]
  }
 ],
 "metadata": {
  "kernelspec": {
   "display_name": "Python 3",
   "language": "python",
   "name": "python3"
  },
  "language_info": {
   "codemirror_mode": {
    "name": "ipython",
    "version": 3
   },
   "file_extension": ".py",
   "mimetype": "text/x-python",
   "name": "python",
   "nbconvert_exporter": "python",
   "pygments_lexer": "ipython3",
   "version": "3.11.3"
  }
 },
 "nbformat": 4,
 "nbformat_minor": 5
}
